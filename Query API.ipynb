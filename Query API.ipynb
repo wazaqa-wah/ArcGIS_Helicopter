{
 "cells": [
  {
   "cell_type": "code",
   "execution_count": 1,
   "metadata": {},
   "outputs": [
    {
     "ename": "ModuleNotFoundError",
     "evalue": "No module named 'paramiko'",
     "output_type": "error",
     "traceback": [
      "\u001b[0;31m---------------------------------------------------------------------------\u001b[0m",
      "\u001b[0;31mModuleNotFoundError\u001b[0m                       Traceback (most recent call last)",
      "Input \u001b[0;32mIn [1]\u001b[0m, in \u001b[0;36m<cell line: 1>\u001b[0;34m()\u001b[0m\n\u001b[0;32m----> 1\u001b[0m \u001b[38;5;28;01mimport\u001b[39;00m \u001b[38;5;21;01mparamiko\u001b[39;00m\n\u001b[1;32m      2\u001b[0m \u001b[38;5;28;01mimport\u001b[39;00m \u001b[38;5;21;01mpandas\u001b[39;00m \u001b[38;5;28;01mas\u001b[39;00m \u001b[38;5;21;01mpd\u001b[39;00m\n\u001b[1;32m      3\u001b[0m \u001b[38;5;28;01mfrom\u001b[39;00m \u001b[38;5;21;01mio\u001b[39;00m \u001b[38;5;28;01mimport\u001b[39;00m StringIO\n",
      "\u001b[0;31mModuleNotFoundError\u001b[0m: No module named 'paramiko'"
     ]
    }
   ],
   "source": [
    "import paramiko\n",
    "import pandas as pd\n",
    "from io import StringIO\n",
    "import json\n",
    "from shapely.geometry import shape\n",
    "import pytz\n",
    "from datetime import datetime, timedelta\n",
    "from time import sleep\n",
    "from calendar import monthrange\n",
    "from multiprocessing import Pool, Process\n",
    "import requests\n",
    "from requests.auth import HTTPBasicAuth\n",
    "import geojson\n",
    "import geopandas as gpd\n",
    "import movingpandas as mpd\n",
    "from datetime import timedelta, datetime\n",
    "from shapely.geometry import Point\n",
    "import matplotlib.pyplot as plt\n",
    "import requests"
   ]
  },
  {
   "cell_type": "code",
   "execution_count": 3,
   "metadata": {},
   "outputs": [],
   "source": [
    "#init ssh client\n",
    "client = paramiko.SSHClient()\n",
    "client.load_system_host_keys()\n",
    "client.connect('data.opensky-network.org', port=2230, username='username_here', password='password_here"
   ]
  },
  {
   "cell_type": "code",
   "execution_count": 4,
   "metadata": {},
   "outputs": [],
   "source": [
    "def queryImpala(query):\n",
    "    #query Impala shell\n",
    "    stdin, stdout, stderr = client.exec_command(query.replace('\\n',''))\n",
    "    \n",
    "    error = [line for line in stderr]\n",
    "    print(error) \n",
    "    \n",
    "    #convert stdout arrays to a dataframe\n",
    "    data = []\n",
    "    \n",
    "    for line in stdout:\n",
    "        #remove data headers\n",
    "        if not line.startswith('+'):\n",
    "            data.append(line.strip('\\n').replace(' ', '').strip('|'))\n",
    "    \n",
    "    if len(data):\n",
    "        #remove empty spaces and table formatters\n",
    "        #temp - StringIO is a dumb way of converting the text into dataframe\n",
    "        df = pd.read_csv(StringIO('\\n'.join(data)), sep = '|')\n",
    "        return df\n",
    "    else:\n",
    "        return pd.DataFrame()"
   ]
  },
  {
   "cell_type": "code",
   "execution_count": 5,
   "metadata": {
    "scrolled": true
   },
   "outputs": [],
   "source": [
    "#generate bounds from geojson file\n",
    "with open('./manhattan_boundary.geojson') as geojson:\n",
    "    feature = json.load(geojson)['features'][0]['geometry']\n",
    "    mn_bounds = shape(feature)\n",
    "\n",
    "bounds = mn_bounds.bounds\n",
    "\n",
    "def getMonth(month):\n",
    "    #init ssh client\n",
    "    client = paramiko.SSHClient()\n",
    "    client.load_system_host_keys()\n",
    "    client.connect('data.opensky-network.org', port=2230, username='USERNAME', password='PASSWORD",
    "    #generate queries for every data in month, query, then add to dataframe.\n",
    "    global month_rows\n",
    "    month_rows = pd.DataFrame()\n",
    "    timezone = pytz.timezone(\"America/New_York\")\n",
    "\n",
    "    for day in range(1,2):\n",
    "        for hour in range(0, 24):\n",
    "            utc = datetime(2022, month, day, hour, 0, 0).astimezone(timezone)\n",
    "\n",
    "            start = int(utc.timestamp())\n",
    "            end = int((utc + timedelta(hours = 1)).timestamp())\n",
    "\n",
    "            start_hour = start -(start%3600) \n",
    "            #build sql query where time is that hour, in bounds, \n",
    "            #below 762 meters (2,500 feet), and not on the ground\n",
    "            query = f\"\"\"--query=SELECT * FROM state_vectors_data4 \n",
    "                WHERE hour={start_hour}\n",
    "                AND time % 4 = 0\n",
    "                AND lon >= {bounds[0]} AND lat >= {bounds[1]} AND lon <= {bounds[2]} AND lat <= {bounds[3]} \n",
    "                AND geoaltitude <= 762\n",
    "                AND onground is false\n",
    "            \"\"\"\n",
    "\n",
    "            df = queryImpala(query)\n",
    "\n",
    "            print(f'{utc.strftime(\"%b %d %Y %H:%M\")} with {len(df)} rows')\n",
    "\n",
    "            month_rows = pd.concat([month_rows, df])\n",
    "\n",
    "            sleep(5)\n",
    "               \n",
    "    month_rows.to_csv(f'./{month}_2022_airport_test.csv', index = False)"
   ]
  },
  {
   "cell_type": "code",
   "execution_count": 7,
   "metadata": {},
   "outputs": [
    {
     "name": "stdout",
     "output_type": "stream",
     "text": [
      "['Starting Impala Shell without Kerberos authentication\\n']\n",
      "Jul 01 2022 00:00 with 78 rows\n",
      "['Starting Impala Shell without Kerberos authentication\\n']\n",
      "Jul 01 2022 01:00 with 303 rows\n",
      "['Starting Impala Shell without Kerberos authentication\\n']\n",
      "Jul 01 2022 02:00 with 105 rows\n",
      "['Starting Impala Shell without Kerberos authentication\\n']\n",
      "Jul 01 2022 03:00 with 0 rows\n",
      "['Starting Impala Shell without Kerberos authentication\\n']\n",
      "Jul 01 2022 04:00 with 0 rows\n",
      "['Starting Impala Shell without Kerberos authentication\\n']\n",
      "Jul 01 2022 05:00 with 65 rows\n",
      "['Starting Impala Shell without Kerberos authentication\\n']\n",
      "Jul 01 2022 06:00 with 3074 rows\n",
      "['Starting Impala Shell without Kerberos authentication\\n']\n",
      "Jul 01 2022 07:00 with 2113 rows\n",
      "['Starting Impala Shell without Kerberos authentication\\n']\n",
      "Jul 01 2022 08:00 with 1273 rows\n",
      "['Starting Impala Shell without Kerberos authentication\\n']\n",
      "Jul 01 2022 09:00 with 3314 rows\n",
      "['Starting Impala Shell without Kerberos authentication\\n']\n",
      "Jul 01 2022 10:00 with 5459 rows\n",
      "['Starting Impala Shell without Kerberos authentication\\n']\n",
      "Jul 01 2022 11:00 with 6762 rows\n",
      "['Starting Impala Shell without Kerberos authentication\\n']\n",
      "Jul 01 2022 12:00 with 6408 rows\n",
      "['Starting Impala Shell without Kerberos authentication\\n']\n",
      "Jul 01 2022 13:00 with 5961 rows\n",
      "['Starting Impala Shell without Kerberos authentication\\n']\n",
      "Jul 01 2022 14:00 with 6968 rows\n",
      "['Starting Impala Shell without Kerberos authentication\\n']\n",
      "Jul 01 2022 15:00 with 6343 rows\n",
      "['Starting Impala Shell without Kerberos authentication\\n']\n",
      "Jul 01 2022 16:00 with 7751 rows\n",
      "['Starting Impala Shell without Kerberos authentication\\n']\n",
      "Jul 01 2022 17:00 with 3329 rows\n",
      "['Starting Impala Shell without Kerberos authentication\\n']\n",
      "Jul 01 2022 18:00 with 3220 rows\n",
      "['Starting Impala Shell without Kerberos authentication\\n']\n",
      "Jul 01 2022 19:00 with 2829 rows\n",
      "['Starting Impala Shell without Kerberos authentication\\n']\n",
      "Jul 01 2022 20:00 with 1756 rows\n",
      "['Starting Impala Shell without Kerberos authentication\\n']\n",
      "Jul 01 2022 21:00 with 2154 rows\n",
      "['Starting Impala Shell without Kerberos authentication\\n']\n",
      "Jul 01 2022 22:00 with 230 rows\n",
      "['Starting Impala Shell without Kerberos authentication\\n']\n",
      "Jul 01 2022 23:00 with 113 rows\n"
     ]
    }
   ],
   "source": [
    "getMonth(7)"
   ]
  },
  {
   "cell_type": "code",
   "execution_count": null,
   "metadata": {},
   "outputs": [],
   "source": [
    "#client = paramiko.SSHClient()\n",
    "#client.load_system_host_keys()\n",
    "#client.connect('data.opensky-network.org', port=2230, username='zhi_betanyc', password=';A8=[C.e9Ybt')\n",
    "flight_info_list = []\n",
    "for icao in month_rows[2]:\n",
    "    query2 = f\"\"\"-- query=SELECT icao24, estdepartureairport,  estarrivalairport from flights_data4 WHERE icao24 = {icao}\n",
    "    \"\"\""
   ]
  },
  {
   "cell_type": "code",
   "execution_count": 8,
   "metadata": {},
   "outputs": [
    {
     "name": "stdout",
     "output_type": "stream",
     "text": [
      "['aadffd' 'a6178b' 'a69e14' 'acb1f5' 'a02b97' 'ac6c45' 'a22ee9' 'icao24'\n",
      " 'ad340b' 'ac1dbc' 'a51ebb' 'a81624' 'aa8e7f' 'a928da' 'ac234a' 'a3b8e8'\n",
      " 'a8da77' 'a0e5ee' 'acbcfd' 'a9923b' 'a4d45c' 'a4b205' 'a92e73' 'ac3d2a'\n",
      " 'a5fc87' 'a4bd2a' 'a98b8b' 'aa8548' 'ab5017' 'a81f62' 'a43fba' 'ab6800'\n",
      " 'a8b802' 'a50106' 'aab316' 'a2cbbd' 'a79f25' 'ad35e0' 'a466a1' 'a9ba85'\n",
      " 'a1d45a' 'c00b7c' 'ab282b' 'a1d49e' 'ac2bd5' 'a4c4e1' 'acda2c' 'c069b9'\n",
      " 'ab35a9' 'a34825' 'a62bdc' 'a2fe3c' 'abdc96' 'a06e71' 'a07f60' 'a6152a'\n",
      " 'a422f7' 'a486b3' 'a08714' 'aaf8f1' 'a9a037' 'ab6394' 'a52cc8' 'a56e0d'\n",
      " 'aca79d' 'a31bd5' 'a2c0b7' 'a1d0e7' 'a13f8b' 'a91ab7' 'aa9723' 'a2adad'\n",
      " 'a35de5' 'a12d4b' 'a56e48' 'a2270f' 'a1ed17' 'a1ad1f' 'a2d518' 'aadc2b'\n",
      " 'a01bbc' 'a066a3' 'a19dff' 'adf668' 'ada521' 'a47aac' 'a4c03c' 'a14c9b'\n",
      " 'a46bd0' 'ae10e8' 'a81b2a' 'a8423c' 'a24720' 'a1f0b4' 'a45f37' 'a3ad5a'\n",
      " 'accb65' 'a466c7' 'a23fb2' 'aa02ab' 'a0aab8' 'a2f710' 'a8d3af' 'a5e880'\n",
      " 'ac2afe' 'a02648' 'ae6ab8' 'a83876' 'a1e946' 'ab050a' 'a1c57e' 'a45bd7'\n",
      " 'a85c8d' 'a0baa1' 'ad0f29' 'a5f162' 'ab1971' 'a61173' 'a4d375' 'ac159a'\n",
      " 'a305aa' 'a46310' 'ab1fbb' 'aab0ba' 'aa202a' 'a0b59d' 'a434f9' 'a55f6c'\n",
      " 'a042db' 'ad0e61' 'a73690' 'a3e329' 'a20d0e' 'a44548' 'a46213' 'ae649a'\n",
      " 'aa83e8' 'abea64' 'ab525f' 'abd19e' 'ab3d17' 'a310cf' 'acd2d3' 'a08317'\n",
      " 'abff50' 'a56a91' 'a3183d' 'a62c1a' 'aa3994' 'aaa5d4' 'a0433b' 'ac5087'\n",
      " 'a4ec28' 'a075df' 'ab4ea8' 'a8f338' 'a54312' 'a50192' 'a39e7e' 'a4cc95'\n",
      " 'a4b973' 'aa5a3b' 'a1ba59' 'a9c1aa' 'a32f82' 'a1bdb7' 'a04a49' 'c05ec7'\n",
      " 'a5e9f4' 'a20a81' 'ad6b0f' 'a5307f' 'abdcb7' 'a1b092' 'a22702' 'a74bba'\n",
      " 'a91349' 'ab0a73' 'aaf960' 'a4b1e8' 'add0a4' 'ab2ae6' 'a97c2e' 'ad8907'\n",
      " 'aadd6b' 'a34ab3' 'ae649c' 'a9101c' 'a3efa0' 'a19c2e' 'a0de49' 'a03f66'\n",
      " 'a13bc1' 'ab3633' 'aa5b30' 'a1a507' 'acb963' 'a51e10' 'aa67f1' 'a206f1'\n",
      " 'ac1d36' 'a3bb06' 'ad364b' 'a7dd69' 'a28402' 'a23f86' 'a05782' 'a02f50'\n",
      " 'a3915a' 'a693a0' 'a1fc1d' 'a5a941' 'a4ab11' 'a703e4' 'a356fa' 'a34876'\n",
      " 'ab62ad' 'ab48e8' 'a32bcb' 'a082fd' 'a34294' 'a01037' 'a08446' 'a8e0a5'\n",
      " 'a1e1d8' 'abdcbe' 'accf1c' 'a43b91' 'a0232a' 'a44533' 'ac5cd7' 'a8222c'\n",
      " 'abd536']\n"
     ]
    }
   ],
   "source": [
    "\n",
    "res = month_rows.icao24.unique()\n",
    "print(res)"
   ]
  },
  {
   "cell_type": "code",
   "execution_count": null,
   "metadata": {},
   "outputs": [],
   "source": [
    "client.close()"
   ]
  }
 ],
 "metadata": {
  "kernelspec": {
   "display_name": "Python 3 (ipykernel)",
   "language": "python",
   "name": "python3"
  },
  "language_info": {
   "codemirror_mode": {
    "name": "ipython",
    "version": 3
   },
   "file_extension": ".py",
   "mimetype": "text/x-python",
   "name": "python",
   "nbconvert_exporter": "python",
   "pygments_lexer": "ipython3",
   "version": "3.10.5"
  },
  "vscode": {
   "interpreter": {
    "hash": "abebecdbb7d5129e49d4f2843cac6691441642a2f35c715a9bd25936c259ccba"
   }
  }
 },
 "nbformat": 4,
 "nbformat_minor": 4
}
