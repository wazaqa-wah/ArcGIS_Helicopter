{
 "cells": [
  {
   "cell_type": "code",
   "execution_count": 1,
   "metadata": {},
   "outputs": [],
   "source": [
    "import pandas as pd"
   ]
  },
  {
   "cell_type": "code",
   "execution_count": 2,
   "metadata": {},
   "outputs": [],
   "source": [
    "#read in woring dataset\n",
    "df = pd.read_csv('./7_2_all_traj_line.csv')"
   ]
  },
  {
   "cell_type": "code",
   "execution_count": 3,
   "metadata": {},
   "outputs": [],
   "source": [
    "#change column name\n",
    "df.columns = df.columns.str.replace('Unnamed: 0','counter')"
   ]
  },
  {
   "cell_type": "code",
   "execution_count": null,
   "metadata": {},
   "outputs": [],
   "source": [
    "# A for-loop to count helicopter trips based on the unique index column. \n",
    "# The unique index column is generated in the data cleaning code to count how many unique trip one helicopter takes perday\n",
    "TripID = 0\n",
    "tripList = []\n",
    "counter = 0\n",
    "for i in df.counter:\n",
    "    print('i = '+str(i))\n",
    "    tripList.append(TripID)\n",
    "    checkNext = df.counter[counter + 1]\n",
    "    counter = counter + 1\n",
    "    if checkNext == 0:\n",
    "        TripID = TripID +1\n",
    "        #tripList.append(TripID)\n",
    "        #print('new loop' + ' ' + str(TripID))\n",
    "    elif counter > len(df.counter):\n",
    "        break\n",
    "\n",
    "    #print('TripID' + str(TripID))"
   ]
  },
  {
   "cell_type": "code",
   "execution_count": null,
   "metadata": {},
   "outputs": [],
   "source": [
    "#append list as column to df\n",
    "df['TripID'] = tripList"
   ]
  },
  {
   "cell_type": "code",
   "execution_count": null,
   "metadata": {},
   "outputs": [],
   "source": [
    "df.to_csv(\"./ByTrips_7_2_all.csv\")"
   ]
  },
  {
   "cell_type": "code",
   "execution_count": null,
   "metadata": {},
   "outputs": [],
   "source": [
    "# code below is to join the helicopter information based on their unqieu icao24 to find out what they are used for"
   ]
  },
  {
   "cell_type": "code",
   "execution_count": 17,
   "metadata": {},
   "outputs": [],
   "source": [
    "#extract unique icao24 id from df\n",
    "icaoList = df.icao24.unique()"
   ]
  },
  {
   "cell_type": "code",
   "execution_count": 19,
   "metadata": {},
   "outputs": [],
   "source": [
    "#change data type\n",
    "icaoList = icaoList.tolist()"
   ]
  },
  {
   "cell_type": "code",
   "execution_count": 24,
   "metadata": {},
   "outputs": [],
   "source": [
    "#change data type\n",
    "icaoList = pd.DataFrame(icaoList)"
   ]
  },
  {
   "cell_type": "code",
   "execution_count": 22,
   "metadata": {},
   "outputs": [
    {
     "name": "stderr",
     "output_type": "stream",
     "text": [
      "C:\\Users\\chenj\\AppData\\Local\\Temp\\ipykernel_5896\\2520657406.py:1: DtypeWarning: Columns (14) have mixed types. Specify dtype option on import or set low_memory=False.\n",
      "  aircraftList = pd.read_csv(\"./aircraftDatabase.csv\")\n"
     ]
    }
   ],
   "source": [
    "#read in all aircraft info from opensky\n",
    "aircraftList = pd.read_csv(\"./aircraftDatabase.csv\")"
   ]
  },
  {
   "cell_type": "code",
   "execution_count": 37,
   "metadata": {},
   "outputs": [],
   "source": [
    "icaoList.columns = ['icao24']"
   ]
  },
  {
   "cell_type": "code",
   "execution_count": 27,
   "metadata": {},
   "outputs": [],
   "source": [
    "import numpy as np"
   ]
  },
  {
   "cell_type": "code",
   "execution_count": 38,
   "metadata": {},
   "outputs": [],
   "source": [
    "#left join interested icao from all aircraft info data set,\n",
    "aircraftInfo = icaoList.merge(aircraftList, how='left', on='icao24')"
   ]
  },
  {
   "cell_type": "code",
   "execution_count": 39,
   "metadata": {},
   "outputs": [],
   "source": [
    "aircraftInfo.to_csv(\"./7_2_aircraftInfo.csv\")"
   ]
  }
 ],
 "metadata": {
  "kernelspec": {
   "display_name": "Python 3 (ipykernel)",
   "language": "python",
   "name": "python3"
  },
  "language_info": {
   "codemirror_mode": {
    "name": "ipython",
    "version": 3
   },
   "file_extension": ".py",
   "mimetype": "text/x-python",
   "name": "python",
   "nbconvert_exporter": "python",
   "pygments_lexer": "ipython3",
   "version": "3.10.5"
  },
  "vscode": {
   "interpreter": {
    "hash": "abebecdbb7d5129e49d4f2843cac6691441642a2f35c715a9bd25936c259ccba"
   }
  }
 },
 "nbformat": 4,
 "nbformat_minor": 2
}
